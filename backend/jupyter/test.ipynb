{
 "cells": [
  {
   "cell_type": "code",
   "execution_count": 190,
   "metadata": {},
   "outputs": [],
   "source": [
    "import requests\n",
    "import pandas\n",
    "\n",
    "Actions = [\"http://127.0.0.1:8000/actions/actions\", \"http://127.0.0.1:8000/actions/queue\"]\n",
    "payload = \"\"\n",
    "headers = {}"
   ]
  },
  {
   "cell_type": "code",
   "execution_count": 193,
   "metadata": {},
   "outputs": [],
   "source": [
    "\n",
    "import requests\n",
    "import pandas\n",
    "import json\n",
    "import ast\n",
    "\n",
    "class readURL:\n",
    "    def __init__(self, url: str):\n",
    "        self.url = url\n",
    "        \n",
    "    def read(self) -> requests:\n",
    "        payload = \"\"\n",
    "        headers = {}\n",
    "        response = requests.request(\"GET\", self.url, headers=headers, data=payload)\n",
    "        return response\n",
    "    \n",
    "    def json(self) -> json:\n",
    "        return self.read().text\n",
    "\n",
    "    def only_dict(d):\n",
    "        return ast.literal_eval(d)\n",
    "\n",
    "    def list_of_dicts(ld):\n",
    "        return dict([(list(d.values())[1], list(d.values())[0]) for d in ast.literal_eval(ld)])\n",
    "\n",
    "    def expand(self, data:pandas.DataFrame, withId:bool = True) -> pandas.DataFrame:\n",
    "        for x in data.columns:\n",
    "            if data[x].dtypes == object and data[x].name != '_id' :\n",
    "                if withId:\n",
    "                    newColumn = pandas.json_normalize(data[x].apply(ast.literal_eval).tolist()).add_prefix(str(data[x].name) + '.')\n",
    "                else:\n",
    "                    newColumn = pandas.json_normalize(data[x].apply(ast.literal_eval).tolist()).drop(columns=['_id']).add_prefix(str(data[x].name) + '.')\n",
    "                data = data.drop(columns=data[x].name)\n",
    "                data = data.join([newColumn])\n",
    "        return data\n",
    "\n",
    "    def dataFrame(self, withId:bool = True, columnExpand:bool = True) -> pandas.DataFrame:\n",
    "        data = pandas.read_json(self.json())\n",
    "        if not withId:\n",
    "            data = data.drop(columns=['_id'])\n",
    "        if columnExpand:\n",
    "            data = self.expand(data=data, withId=withId)\n",
    "            return data\n",
    "        else:\n",
    "            return data\n",
    "    \n",
    "\n",
    "class readJSON:\n",
    "    def __init__(self, json: json):\n",
    "        self.json = json\n",
    "\n",
    "    def only_dict(d):\n",
    "        return ast.literal_eval(d)\n",
    "\n",
    "    def list_of_dicts(ld):\n",
    "        return dict([(list(d.values())[1], list(d.values())[0]) for d in ast.literal_eval(ld)])\n",
    "\n",
    "    def expand(self, data:pandas.DataFrame, withId:bool = True) -> pandas.DataFrame:\n",
    "        for x in data.columns:\n",
    "            if data[x].dtypes == object and data[x].name != '_id' :\n",
    "                if withId:\n",
    "                    newColumn = pandas.json_normalize(data[x].apply(ast.literal_eval).tolist()).add_prefix(str(data[x].name) + '.')\n",
    "                else:\n",
    "                    newColumn = pandas.json_normalize(data[x].apply(ast.literal_eval).tolist()).drop(columns=['_id']).add_prefix(str(data[x].name) + '.')\n",
    "                data = data.drop(columns=data[x].name)\n",
    "                data = data.join([newColumn])\n",
    "        return data\n",
    "\n",
    "    def dataFrame(self, withId:bool = True, columnExpand:bool = True) -> pandas.DataFrame:\n",
    "        data = pandas.read_json(self.json)\n",
    "        if not withId:\n",
    "            data = data.drop(columns=['_id'])\n",
    "        if columnExpand:\n",
    "            data = self.expand(data=data, withId=withId)\n",
    "            return data\n",
    "        else:\n",
    "            return data\n",
    "    \n"
   ]
  },
  {
   "cell_type": "code",
   "execution_count": 191,
   "metadata": {},
   "outputs": [
    {
     "data": {
      "text/html": [
       "<div>\n",
       "<style scoped>\n",
       "    .dataframe tbody tr th:only-of-type {\n",
       "        vertical-align: middle;\n",
       "    }\n",
       "\n",
       "    .dataframe tbody tr th {\n",
       "        vertical-align: top;\n",
       "    }\n",
       "\n",
       "    .dataframe thead th {\n",
       "        text-align: right;\n",
       "    }\n",
       "</style>\n",
       "<table border=\"1\" class=\"dataframe\">\n",
       "  <thead>\n",
       "    <tr style=\"text-align: right;\">\n",
       "      <th></th>\n",
       "      <th>dateTime</th>\n",
       "      <th>Sensor.Voltage</th>\n",
       "      <th>Sensor.Current</th>\n",
       "      <th>Sensor.Temperature</th>\n",
       "      <th>Calculate.Status</th>\n",
       "      <th>Calculate.Percent</th>\n",
       "    </tr>\n",
       "  </thead>\n",
       "  <tbody>\n",
       "    <tr>\n",
       "      <th>0</th>\n",
       "      <td>2022-12-06 09:07:46.676000+00:00</td>\n",
       "      <td>1.0</td>\n",
       "      <td>None</td>\n",
       "      <td>None</td>\n",
       "      <td>None</td>\n",
       "      <td>0.4</td>\n",
       "    </tr>\n",
       "    <tr>\n",
       "      <th>1</th>\n",
       "      <td>2022-12-06 09:08:30.996000+00:00</td>\n",
       "      <td>1.0</td>\n",
       "      <td>None</td>\n",
       "      <td>None</td>\n",
       "      <td>None</td>\n",
       "      <td>0.4</td>\n",
       "    </tr>\n",
       "    <tr>\n",
       "      <th>2</th>\n",
       "      <td>2022-12-06 09:38:17.860000+00:00</td>\n",
       "      <td>1.0</td>\n",
       "      <td>None</td>\n",
       "      <td>None</td>\n",
       "      <td>None</td>\n",
       "      <td>0.4</td>\n",
       "    </tr>\n",
       "  </tbody>\n",
       "</table>\n",
       "</div>"
      ],
      "text/plain": [
       "                          dateTime Sensor.Voltage Sensor.Current  \\\n",
       "0 2022-12-06 09:07:46.676000+00:00            1.0           None   \n",
       "1 2022-12-06 09:08:30.996000+00:00            1.0           None   \n",
       "2 2022-12-06 09:38:17.860000+00:00            1.0           None   \n",
       "\n",
       "  Sensor.Temperature Calculate.Status Calculate.Percent  \n",
       "0               None             None               0.4  \n",
       "1               None             None               0.4  \n",
       "2               None             None               0.4  "
      ]
     },
     "execution_count": 191,
     "metadata": {},
     "output_type": "execute_result"
    }
   ],
   "source": [
    "queue = readURL(\"http://127.0.0.1:8000/battery/battery\")\n",
    "df = queue.dataFrame(withId=False)\n",
    "df"
   ]
  },
  {
   "cell_type": "code",
   "execution_count": 195,
   "metadata": {},
   "outputs": [
    {
     "ename": "TypeError",
     "evalue": "'str' object is not callable",
     "output_type": "error",
     "traceback": [
      "\u001b[1;31m---------------------------------------------------------------------------\u001b[0m",
      "\u001b[1;31mTypeError\u001b[0m                                 Traceback (most recent call last)",
      "Cell \u001b[1;32mIn[195], line 2\u001b[0m\n\u001b[0;32m      1\u001b[0m json_ \u001b[39m=\u001b[39m readJSON(queue\u001b[39m.\u001b[39mjson())\n\u001b[1;32m----> 2\u001b[0m json_\u001b[39m.\u001b[39;49mdataFrame()\n",
      "Cell \u001b[1;32mIn[193], line 69\u001b[0m, in \u001b[0;36mreadJSON.dataFrame\u001b[1;34m(self, withId, columnExpand)\u001b[0m\n\u001b[0;32m     68\u001b[0m \u001b[39mdef\u001b[39;00m \u001b[39mdataFrame\u001b[39m(\u001b[39mself\u001b[39m, withId:\u001b[39mbool\u001b[39m \u001b[39m=\u001b[39m \u001b[39mTrue\u001b[39;00m, columnExpand:\u001b[39mbool\u001b[39m \u001b[39m=\u001b[39m \u001b[39mTrue\u001b[39;00m) \u001b[39m-\u001b[39m\u001b[39m>\u001b[39m pandas\u001b[39m.\u001b[39mDataFrame:\n\u001b[1;32m---> 69\u001b[0m     data \u001b[39m=\u001b[39m pandas\u001b[39m.\u001b[39mread_json(\u001b[39mself\u001b[39;49m\u001b[39m.\u001b[39;49mjson())\n\u001b[0;32m     70\u001b[0m     \u001b[39mif\u001b[39;00m \u001b[39mnot\u001b[39;00m withId:\n\u001b[0;32m     71\u001b[0m         data \u001b[39m=\u001b[39m data\u001b[39m.\u001b[39mdrop(columns\u001b[39m=\u001b[39m[\u001b[39m'\u001b[39m\u001b[39m_id\u001b[39m\u001b[39m'\u001b[39m])\n",
      "\u001b[1;31mTypeError\u001b[0m: 'str' object is not callable"
     ]
    }
   ],
   "source": [
    "json_ = readJSON(queue.json())\n",
    "json_.dataFrame()"
   ]
  },
  {
   "cell_type": "code",
   "execution_count": null,
   "metadata": {},
   "outputs": [],
   "source": []
  }
 ],
 "metadata": {
  "kernelspec": {
   "display_name": "Python 3.9.13 ('venv': venv)",
   "language": "python",
   "name": "python3"
  },
  "language_info": {
   "codemirror_mode": {
    "name": "ipython",
    "version": 3
   },
   "file_extension": ".py",
   "mimetype": "text/x-python",
   "name": "python",
   "nbconvert_exporter": "python",
   "pygments_lexer": "ipython3",
   "version": "3.9.13"
  },
  "orig_nbformat": 4,
  "vscode": {
   "interpreter": {
    "hash": "a43789c3d25ccf4b003a1950096e3c88c872f8cfbbeb0cb09fb5ac8a19d6a7e4"
   }
  }
 },
 "nbformat": 4,
 "nbformat_minor": 2
}
