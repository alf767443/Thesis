{
 "cells": [
  {
   "cell_type": "code",
   "execution_count": null,
   "metadata": {},
   "outputs": [],
   "source": [
    "import requests\n",
    "import pandas as pd\n",
    "import json\n",
    "import ast\n",
    "\n",
    "class readURL:\n",
    "    data: pd.DataFrame\n",
    "\n",
    "    def __init__(self, url: str):\n",
    "        self.url = url\n",
    "        \n",
    "    def read(self):\n",
    "        payload = \"\"\n",
    "        headers = {}\n",
    "        response = requests.request(\"GET\", self.url, headers=headers, data=payload)\n",
    "        return response\n",
    "    \n",
    "    def text(self):\n",
    "        read = self.read().text\n",
    "        return read\n",
    "\n",
    "    def only_dict(self, d):\n",
    "        return ast.literal_eval(d)\n",
    "\n",
    "    def list_of_dicts(self, ld):\n",
    "        return dict([(list(d.values())[1], list(d.values())[0]) for d in ast.literal_eval(ld)])\n",
    "\n",
    "    def expand(self, withId:bool = True) -> pd.DataFrame:\n",
    "        collumns = self.data.columns\n",
    "        for col in collumns:\n",
    "            if self.data[col].dtype == object and self.data[col].name != '_id' :\n",
    "                #if withId:\n",
    "                newColumn = self.data[col].tolist()\n",
    "                print(newColumn)\n",
    "                #newColumn = pd.json_normalize(newColumn).add_prefix(str(self.data[col].name) + '.')\n",
    "                #else:\n",
    "                    #newColumn = pd.json_normalize(data[x].apply(ast.literal_eval).tolist()).drop(columns=['_id']).add_prefix(str(data[x].name) + '.')\n",
    "                #data = data.drop(columns=data[x].name)\n",
    "                #data = data.join([newColumn])\n",
    "        return self.data\n",
    "\n",
    "    def dataFrame(self, withId:bool = True, columnExpand:bool = True) -> pd.DataFrame:\n",
    "        self.data = pd.read_json(self.text())\n",
    "        if not withId:\n",
    "            self.data = self.data.drop(columns=['_id'])\n",
    "        if columnExpand:\n",
    "            self.data = self.expand(withId=withId)\n",
    "        return self.data\n",
    "  "
   ]
  },
  {
   "cell_type": "code",
   "execution_count": null,
   "metadata": {},
   "outputs": [],
   "source": [
    "from pymongo import MongoClient\n",
    "import pymongo\n",
    "from django.http.response import JsonResponse\n",
    "from bson.json_util import dumps, loads\n",
    "\n",
    "# Requires the PyMongo package.\n",
    "# https://api.mongodb.com/python/current\n",
    "\n",
    "client = MongoClient('mongodb://localhost:27017/')\n",
    "result = client['CeDRI_UGV']['ActionsApplication_queue'].aggregate([\n",
    "    {\n",
    "        '$sort': {\n",
    "            'dateTime': -1\n",
    "        }\n",
    "    }, {\n",
    "        '$limit': 1\n",
    "    }\n",
    "])\n",
    "\n",
    "list(result)[0]"
   ]
  },
  {
   "cell_type": "code",
   "execution_count": null,
   "metadata": {},
   "outputs": [],
   "source": [
    "battery = readURL(\"http://127.0.0.1:8000/battery/battery\")\n",
    "df = battery.dataFrame(withId=False)\n",
    "df"
   ]
  },
  {
   "cell_type": "code",
   "execution_count": null,
   "metadata": {},
   "outputs": [],
   "source": [
    "\n",
    "import requests\n",
    "import pandas as pd\n",
    "import json\n",
    "import ast\n",
    "\n",
    "class readJSON:\n",
    "    def __init__(self, json, pandas: pd.DataFrame):\n",
    "        self.json = json\n",
    "        if pandas == None:\n",
    "            self.pandas = pd.read_json(self.json)\n",
    "\n",
    "    def only_dict(self, d):\n",
    "        return ast.literal_eval(d)\n",
    "\n",
    "    def list_of_dicts(self, ld):\n",
    "        return dict([(list(d.values())[1], list(d.values())[0]) for d in ast.literal_eval(ld)])\n",
    "\n",
    "    def expand(self, withId:bool = True) -> pd.DataFrame:\n",
    "        data = self.pandas\n",
    "        for x in data.columns:\n",
    "            if data[x].dtypes == object and data[x].name != '_id' :\n",
    "                if withId:\n",
    "                    newColumn = pd.json_normalize(data[x].apply(ast.literal_eval).tolist()).add_prefix(str(data[x].name) + '.')\n",
    "                else:\n",
    "                    newColumn = pd.json_normalize(data[x].apply(ast.literal_eval).tolist()).drop(columns=['_id']).add_prefix(str(data[x].name) + '.')\n",
    "                data = data.drop(columns=data[x].name)\n",
    "                data = data.join([newColumn])\n",
    "        return data\n",
    "\n",
    "    def dataFrame(self, withId:bool = True, columnExpand:bool = True) -> pd.DataFrame:\n",
    "        data = self.pandas\n",
    "        if not withId:\n",
    "            self.pandas = self.pandas.drop(columns=['_id'])\n",
    "        if columnExpand:\n",
    "            self.pandas = self.expand(withId=withId)\n",
    "        self.json = data.to_json()\n",
    "        return data"
   ]
  },
  {
   "cell_type": "code",
   "execution_count": null,
   "metadata": {},
   "outputs": [],
   "source": [
    "json_ = readJSON(battery.json())\n",
    "json_.dataFrame(withId=False)"
   ]
  },
  {
   "cell_type": "code",
   "execution_count": 111,
   "metadata": {},
   "outputs": [
    {
     "data": {
      "text/plain": [
       "'[{\"_id\": \"639476e34bb315a0e907d6e7\", \"QueueNumber\": 3, \"Action\": {\"_id\": \"63946e374bb315a0e907d6dd\", \"dateTime\": \"2022-12-10T11:32:07.911000Z\", \"Code\": \"1\", \"Status\": \"a\", \"Priority\": \"l\", \"Source\": \"1\"}}, {\"_id\": \"639477e74bb315a0e907d6f8\", \"QueueNumber\": 1, \"Action\": null}, {\"_id\": \"63947f02c04d280975077470\", \"QueueNumber\": 2, \"Action\": {\"_id\": \"63946e374bb315a0e907d6dc\", \"dateTime\": \"2022-12-10T11:32:06.976000Z\", \"Code\": \"1\", \"Status\": \"a\", \"Priority\": \"l\", \"Source\": \"1\"}}, {\"_id\": \"63947f66c04d28097507747a\", \"QueueNumber\": 9, \"Action\": {\"_id\": \"63946e344bb315a0e907d6da\", \"dateTime\": \"2022-12-10T11:32:04.837000Z\", \"Code\": \"1\", \"Status\": \"a\", \"Priority\": \"l\", \"Source\": \"1\"}}]'"
      ]
     },
     "execution_count": 111,
     "metadata": {},
     "output_type": "execute_result"
    }
   ],
   "source": [
    "import requests\n",
    "import json\n",
    "import bson\n",
    "\n",
    "url = \"http://127.0.0.1:8000/actions/queue\"\n",
    "url1 = \"http://127.0.0.1:8000/actions/actions/1\"\n",
    "\n",
    "_json = {\n",
    "  \"QueueNumber\": \"2\",\n",
    "  \"Action\": bson.ObjectId(oid='63946e374bb315a0e907d6dc')\n",
    "}\n",
    "#payload = json.dumps(_json)\n",
    "headers = {\n",
    "  'Content-Type': 'application/json'\n",
    "}\n",
    "\n",
    "#response = requests.request(\"Ge\", url, headers=headers, data=payload)\n",
    "response = requests.request(\"GET\", url)\n",
    "\n",
    "response.text\n",
    "\n",
    "\n"
   ]
  },
  {
   "cell_type": "code",
   "execution_count": 99,
   "metadata": {},
   "outputs": [
    {
     "data": {
      "text/plain": [
       "{'QueueNumber': '2', 'Action': ObjectId('63946e374bb315a0e907d6dc')}"
      ]
     },
     "execution_count": 99,
     "metadata": {},
     "output_type": "execute_result"
    }
   ],
   "source": [
    "import datetime\n",
    "_bson = {\n",
    "  \"QueueNumber\": \"2\",\n",
    "  \"Action\": bson.ObjectId(oid='63946e374bb315a0e907d6dc')\n",
    "}\n",
    "_json"
   ]
  },
  {
   "cell_type": "code",
   "execution_count": 112,
   "metadata": {},
   "outputs": [],
   "source": [
    "from pymongo import MongoClient\n",
    "\n",
    "# Requires the PyMongo package.\n",
    "# https://api.mongodb.com/python/current\n",
    "\n",
    "client = MongoClient('mongodb://localhost:27017/')\n",
    "result = client['CeDRI_UGV']['ActionsApplication_queue'].aggregate([\n",
    "    {\n",
    "        '$limit': 1\n",
    "    }\n",
    "])\n",
    "_bson = {\n",
    "  \"QueueNumber\": \"5\",\n",
    "  \"Action_id\": bson.ObjectId(oid='63946e374bb315a0e907d6dd')\n",
    "}\n",
    "try:\n",
    "    result = client['CeDRI_UGV']['ActionsApplication_queue'].insert_one(_bson)\n",
    "    result\n",
    "except:\n",
    "    print('Fail')\n"
   ]
  },
  {
   "cell_type": "code",
   "execution_count": 114,
   "metadata": {},
   "outputs": [
    {
     "data": {
      "text/plain": [
       "{'QueueNumber': '5', 'Action_id': ObjectId('63946e374bb315a0e907d6dd')}"
      ]
     },
     "execution_count": 114,
     "metadata": {},
     "output_type": "execute_result"
    }
   ],
   "source": [
    "_bson = {\n",
    "  \"QueueNumber\": \"5\",\n",
    "  \"Action_id\": bson.ObjectId(oid='63946e374bb315a0e907d6dd')\n",
    "}\n",
    "_bson"
   ]
  },
  {
   "cell_type": "code",
   "execution_count": null,
   "metadata": {},
   "outputs": [],
   "source": []
  },
  {
   "cell_type": "code",
   "execution_count": 127,
   "metadata": {},
   "outputs": [
    {
     "name": "stdout",
     "output_type": "stream",
     "text": [
      "\"Added Successfully\"\n"
     ]
    }
   ],
   "source": [
    "import requests\n",
    "import json\n",
    "from random import randint, randbytes\n",
    "\n",
    "url = \"http://127.0.0.1:8000/actions/actions\"\n",
    "\n",
    "\n",
    "for x in range(1,2):\n",
    "    payload = json.dumps({\n",
    "        \"Code\": chr(randint(65, 90)),\n",
    "        \"Status\": chr(randint(65,90)),\n",
    "        \"Priority\": chr(randint(65,90)),\n",
    "        \"Source\": chr(randint(65,90))\n",
    "    })\n",
    "    headers = {\n",
    "    'Content-Type': 'application/json'\n",
    "    }\n",
    "\n",
    "    response = requests.request(\"POST\", url, headers=headers, data=payload)\n",
    "\n",
    "    print(response.text)\n",
    "\n"
   ]
  },
  {
   "cell_type": "code",
   "execution_count": null,
   "metadata": {},
   "outputs": [],
   "source": []
  }
 ],
 "metadata": {
  "kernelspec": {
   "display_name": "Python 3.9.13 ('venv': venv)",
   "language": "python",
   "name": "python3"
  },
  "language_info": {
   "codemirror_mode": {
    "name": "ipython",
    "version": 3
   },
   "file_extension": ".py",
   "mimetype": "text/x-python",
   "name": "python",
   "nbconvert_exporter": "python",
   "pygments_lexer": "ipython3",
   "version": "3.9.13"
  },
  "orig_nbformat": 4,
  "vscode": {
   "interpreter": {
    "hash": "a43789c3d25ccf4b003a1950096e3c88c872f8cfbbeb0cb09fb5ac8a19d6a7e4"
   }
  }
 },
 "nbformat": 4,
 "nbformat_minor": 2
}
